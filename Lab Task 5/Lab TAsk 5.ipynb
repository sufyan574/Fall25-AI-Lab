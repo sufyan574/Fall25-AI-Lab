{
 "cells": [
  {
   "cell_type": "code",
   "execution_count": 3,
   "id": "a6652820",
   "metadata": {},
   "outputs": [
    {
     "name": "stdout",
     "output_type": "stream",
     "text": [
      "A B D E C "
     ]
    }
   ],
   "source": [
    "\n",
    "\n",
    "def dfs_stack(graph, start):\n",
    "    visited = set()\n",
    "    stack = [start]\n",
    "\n",
    "    while stack:\n",
    "        node = stack.pop()   \n",
    "        if node not in visited:\n",
    "            print(node, end=\" \")\n",
    "            visited.add(node)\n",
    "            for neighbour in reversed(graph[node]):\n",
    "                if neighbour not in visited:\n",
    "                    stack.append(neighbour)\n",
    "\n",
    "\n",
    "graph = {\n",
    "    'A': ['B', 'C'],\n",
    "    'B': ['D', 'E'],\n",
    "    'C': ['A'],\n",
    "    'D': ['B'],\n",
    "    'E': ['B', 'D']\n",
    "}\n",
    "\n",
    "dfs_stack(graph, 'A')\n"
   ]
  },
  {
   "cell_type": "code",
   "execution_count": 8,
   "id": "cfef1944",
   "metadata": {},
   "outputs": [
    {
     "name": "stdout",
     "output_type": "stream",
     "text": [
      "Preorder: A B D E C \n",
      "Inorder : D B E A C \n",
      "Postorder: D E B C A "
     ]
    }
   ],
   "source": [
    "class Node:\n",
    "    def __init__(self, val):\n",
    "        self.val = val\n",
    "        self.left = None\n",
    "        self.right = None\n",
    "\n",
    "def dfs_pre(root):\n",
    "    if not root:\n",
    "        return\n",
    "    s = [root]\n",
    "    while s:\n",
    "        n = s.pop()\n",
    "        print(n.val, end=\" \")\n",
    "        if n.right:\n",
    "            s.append(n.right)\n",
    "        if n.left:\n",
    "            s.append(n.left)\n",
    "\n",
    "def dfs_in(root):\n",
    "    s, cur = [], root\n",
    "    while s or cur:\n",
    "        while cur:\n",
    "            s.append(cur)\n",
    "            cur = cur.left\n",
    "        cur = s.pop()\n",
    "        print(cur.val, end=\" \")\n",
    "        cur = cur.right\n",
    "\n",
    "def dfs_post(root):\n",
    "    if not root:\n",
    "        return\n",
    "    s1, s2 = [root], []\n",
    "    while s1:\n",
    "        n = s1.pop()\n",
    "        s2.append(n)\n",
    "        if n.left:\n",
    "            s1.append(n.left)\n",
    "        if n.right:\n",
    "            s1.append(n.right)\n",
    "    while s2:\n",
    "        print(s2.pop().val, end=\" \")\n",
    "\n",
    "r = Node(\"A\")\n",
    "r.left = Node(\"B\")\n",
    "r.right = Node(\"C\")\n",
    "r.left.left = Node(\"D\")\n",
    "r.left.right = Node(\"E\")\n",
    "\n",
    "print(\"Preorder:\", end=\" \"); dfs_pre(r)\n",
    "print(\"\\nInorder :\", end=\" \"); dfs_in(r)\n",
    "print(\"\\nPostorder:\", end=\" \"); dfs_post(r)\n"
   ]
  }
 ],
 "metadata": {
  "kernelspec": {
   "display_name": "base",
   "language": "python",
   "name": "python3"
  },
  "language_info": {
   "codemirror_mode": {
    "name": "ipython",
    "version": 3
   },
   "file_extension": ".py",
   "mimetype": "text/x-python",
   "name": "python",
   "nbconvert_exporter": "python",
   "pygments_lexer": "ipython3",
   "version": "3.12.4"
  }
 },
 "nbformat": 4,
 "nbformat_minor": 5
}
