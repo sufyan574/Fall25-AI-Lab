{
 "cells": [
  {
   "cell_type": "code",
   "execution_count": null,
   "id": "68298bbc",
   "metadata": {},
   "outputs": [
    {
     "name": "stdout",
     "output_type": "stream",
     "text": [
      "Visiting Node: A at level 0\n",
      "Visiting Node: B at level 1\n",
      "Visiting Node: D at level 2\n",
      "Visiting Node: G at level 3\n",
      "Visiting Node: H at level 3\n",
      "Visiting Node: L at level 4\n",
      "Visiting Node: E at level 2\n",
      "Visiting Node: C at level 1\n",
      "Visiting Node: F at level 2\n",
      "Visiting Node: I at level 3\n",
      "Visiting Node: K at level 3\n",
      "Visiting Node: M at level 4\n",
      "Goal found! Path: ['A', 'C', 'F', 'K', 'M']\n"
     ]
    }
   ],
   "source": [
    "graph = {\n",
    "    'A': ['B', 'C'],\n",
    "    'B': ['D', 'E'],\n",
    "    'C': ['F'],\n",
    "    'D': ['G', 'H'],\n",
    "    'E': [],\n",
    "    'F': ['I', 'K'],\n",
    "    'G': [],\n",
    "    'H': ['L'],\n",
    "    'I': [],\n",
    "    'K': ['M'],\n",
    "    'L': [],\n",
    "    'M': []\n",
    "}\n",
    "\n",
    "def dls(start, goal, path, level, max_depth):\n",
    "    print(\"Visiting Node:\", start, \"at level\", level)  \n",
    "    path.append(start)\n",
    "\n",
    "    if start == goal:\n",
    "        return True\n",
    "\n",
    "    if level == max_depth:\n",
    "        path.pop()\n",
    "        return False\n",
    "\n",
    "    for child in graph[start]:\n",
    "        if dls(child, goal, path, level + 1, max_depth):\n",
    "            return True\n",
    "\n",
    "    path.pop()\n",
    "    return False\n",
    "\n",
    "\n",
    "\n",
    "start = 'A'\n",
    "goal = 'M'         \n",
    "max_depth = 4       \n",
    "\n",
    "path = []\n",
    "if dls(start, goal, path, 0, max_depth):\n",
    "    print(\"Goal found! Path:\", path)\n",
    "else:\n",
    "    print(\"Goal not found within depth limit.\")\n"
   ]
  },
  {
   "cell_type": "code",
   "execution_count": 2,
   "id": "53ade65a",
   "metadata": {},
   "outputs": [
    {
     "name": "stdout",
     "output_type": "stream",
     "text": [
      "A B C D E F G H I K L M "
     ]
    }
   ],
   "source": [
    "from collections import deque\n",
    "\n",
    "graph = {\n",
    "    'A': ['B', 'C'],\n",
    "    'B': ['D', 'E'],\n",
    "    'C': ['F'],\n",
    "    'D': ['G', 'H'],\n",
    "    'E': [],\n",
    "    'F': ['I', 'K'],\n",
    "    'G': [],\n",
    "    'H': ['L'],\n",
    "    'I': [],\n",
    "    'K': ['M'],\n",
    "    'L': [],\n",
    "    'M': []\n",
    "}\n",
    "\n",
    "def bfs(start):\n",
    "    visited = set()\n",
    "    q = deque([start])\n",
    "    \n",
    "    while q:\n",
    "        node = q.popleft()   \n",
    "        if node not in visited:\n",
    "            print(node, end=\" \")\n",
    "            visited.add(node)\n",
    "            for child in graph[node]:\n",
    "                if child not in visited:\n",
    "                    q.append(child)\n",
    "\n",
    "bfs('A')\n"
   ]
  }
 ],
 "metadata": {
  "kernelspec": {
   "display_name": "Python 3",
   "language": "python",
   "name": "python3"
  },
  "language_info": {
   "codemirror_mode": {
    "name": "ipython",
    "version": 3
   },
   "file_extension": ".py",
   "mimetype": "text/x-python",
   "name": "python",
   "nbconvert_exporter": "python",
   "pygments_lexer": "ipython3",
   "version": "3.12.6"
  }
 },
 "nbformat": 4,
 "nbformat_minor": 5
}
