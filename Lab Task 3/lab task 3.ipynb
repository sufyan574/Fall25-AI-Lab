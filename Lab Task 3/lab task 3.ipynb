{
 "cells": [
  {
   "cell_type": "code",
   "execution_count": 7,
   "id": "6cafc11f",
   "metadata": {},
   "outputs": [
    {
     "name": "stdout",
     "output_type": "stream",
     "text": [
      "Temp: 18°C --> Turning heater ON\n",
      "Temp: 20°C --> Keep heater ON\n",
      "Temp: 22°C --> Temperature is fine, keep Heater_On\n",
      "Temp: 23°C --> Temperature is fine, keep Heater_On\n",
      "Temp: 24°C --> Turning heater Off\n",
      "Temp: 22°C --> Temperature is fine, keep Heater_Off\n",
      "Temp: 21°C --> Temperature is fine, keep Heater_Off\n"
     ]
    }
   ],
   "source": [
    "class TemperatureAgent:\n",
    "    def __init__(self, desired_temp):\n",
    "        self.desired_temp = desired_temp    \n",
    "        self.last_action = None             \n",
    "\n",
    "    def take_action(self, current_temp):\n",
    "        if current_temp < self.desired_temp - 1:\n",
    "            if self.last_action != \"Heater_On\":\n",
    "                self.last_action = \"Heater_On\"\n",
    "                return \"Turning heater ON\"\n",
    "            else:\n",
    "                return \"Keep heater ON\"\n",
    "\n",
    "        elif current_temp > self.desired_temp + 1:\n",
    "            if self.last_action != \"Heater_Off\":\n",
    "                self.last_action = \"Heater_Off\"\n",
    "                return \"Turning heater Off\"\n",
    "            else:\n",
    "                return \"Keep heater Off\"\n",
    "\n",
    "        else:\n",
    "            return f\"Temperature is fine, keep {self.last_action}\"\n",
    "\n",
    "agent = TemperatureAgent(desired_temp=22)\n",
    "temps = [18, 20, 22, 23, 24, 22, 21]  \n",
    "\n",
    "for t in temps:\n",
    "    action = agent.take_action(t)\n",
    "    print(f\"Temp: {t}°C --> {action}\")\n"
   ]
  }
 ],
 "metadata": {
  "kernelspec": {
   "display_name": "Python 3",
   "language": "python",
   "name": "python3"
  },
  "language_info": {
   "codemirror_mode": {
    "name": "ipython",
    "version": 3
   },
   "file_extension": ".py",
   "mimetype": "text/x-python",
   "name": "python",
   "nbconvert_exporter": "python",
   "pygments_lexer": "ipython3",
   "version": "3.13.3"
  }
 },
 "nbformat": 4,
 "nbformat_minor": 5
}
