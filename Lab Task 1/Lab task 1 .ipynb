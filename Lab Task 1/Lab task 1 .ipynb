{
 "cells": [
  {
   "cell_type": "code",
   "execution_count": null,
   "id": "e85384a6",
   "metadata": {},
   "outputs": [
    {
     "name": "stdout",
     "output_type": "stream",
     "text": [
      "Dynamic Calculator\n",
      "Result = 30\n"
     ]
    }
   ],
   "source": [
    "print(\"Dynamic Calculator\")\n",
    "expr = input(\"enter value \")\n",
    "try:\n",
    "    result = eval(expr)\n",
    "    print(\"Result =\", result)\n",
    "except:\n",
    "    print(\"Invalid Expression!\")\n"
   ]
  },
  {
   "cell_type": "code",
   "execution_count": 2,
   "id": "19b5f14f",
   "metadata": {},
   "outputs": [
    {
     "name": "stdout",
     "output_type": "stream",
     "text": [
      "Your To-Do List: ['work', 'subject', 'bangladesh']\n"
     ]
    }
   ],
   "source": [
    "todo = []\n",
    "while True:\n",
    "    task = input(\"Enter task (or 'show'/'exit'): \")\n",
    "    if task == \"exit\":\n",
    "        break\n",
    "    elif task == \"show\":\n",
    "        print(\"Your To-Do List:\", todo)\n",
    "    else:\n",
    "        todo.append(task)\n"
   ]
  },
  {
   "cell_type": "code",
   "execution_count": null,
   "id": "05b14e8b",
   "metadata": {},
   "outputs": [],
   "source": []
  }
 ],
 "metadata": {
  "kernelspec": {
   "display_name": "base",
   "language": "python",
   "name": "python3"
  },
  "language_info": {
   "codemirror_mode": {
    "name": "ipython",
    "version": 3
   },
   "file_extension": ".py",
   "mimetype": "text/x-python",
   "name": "python",
   "nbconvert_exporter": "python",
   "pygments_lexer": "ipython3",
   "version": "3.12.4"
  }
 },
 "nbformat": 4,
 "nbformat_minor": 5
}
