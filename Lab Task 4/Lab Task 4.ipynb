{
 "cells": [
  {
   "cell_type": "code",
   "execution_count": null,
   "id": "c146a15e",
   "metadata": {},
   "outputs": [
    {
     "name": "stdout",
     "output_type": "stream",
     "text": [
      "Kuch Bhi Kuch Bhi\n"
     ]
    }
   ],
   "source": [
    "import re\n",
    "\n",
    "def remove_special_chars(text):\n",
    "   \n",
    "    return re.sub(r'[^A-Za-z0-9\\s]', '', text)\n",
    "\n",
    "s = \"Kuch, Bhi; Kuch? Bhi!\"\n",
    "clean = remove_special_chars(s)\n",
    "print(clean)   \n"
   ]
  },
  {
   "cell_type": "code",
   "execution_count": null,
   "id": "90548c18",
   "metadata": {},
   "outputs": [
    {
     "name": "stdout",
     "output_type": "stream",
     "text": [
      "Original Text: I am Sufyan\n",
      "\n",
      "Character -> ASCII (ord) -> Back to Character (chr)\n",
      "---------------------------------------------------\n",
      "  -> 32 ->  \n",
      "  -> 32 ->  \n",
      "I -> 73 -> I\n",
      "S -> 83 -> S\n",
      "a -> 97 -> a\n",
      "a -> 97 -> a\n",
      "f -> 102 -> f\n",
      "m -> 109 -> m\n",
      "n -> 110 -> n\n",
      "u -> 117 -> u\n",
      "y -> 121 -> y\n",
      "\n",
      "Sorted Text:   ISaafmnuy\n"
     ]
    }
   ],
   "source": [
    "text = \"I am Sufyan\"\n",
    "\n",
    "chars = list(text)  \n",
    "n = len(chars)\n",
    "\n",
    "\n",
    "for i in range(n):\n",
    "    for j in range(0, n - i - 1):\n",
    "        if ord(chars[j]) > ord(chars[j + 1]):\n",
    "            chars[j], chars[j + 1] = chars[j + 1], chars[j]\n",
    "\n",
    "print(\"Original Text:\", text)\n",
    "print(\"\\nCharacter -> ASCII (ord) -> Back to Character (chr)\")\n",
    "print(\"---------------------------------------------------\")\n",
    "\n",
    "for ch in chars:\n",
    "    ascii_val = ord(ch)\n",
    "    back_char = chr(ascii_val)\n",
    "    print(f\"{ch} -> {ascii_val} -> {back_char}\")\n",
    "\n",
    "print(\"\\nSorted Text:\", \"\".join(chars))\n"
   ]
  },
  {
   "cell_type": "code",
   "execution_count": null,
   "id": "0649d3d8",
   "metadata": {},
   "outputs": [
    {
     "name": "stdout",
     "output_type": "stream",
     "text": [
      "\n",
      "--- Sequence 1 ---\n",
      "Original digits:  [5, 8, 9, 3, 7, 0, 4, 1, 1, 3, 4, 5, 7, 2, 8, 6]\n",
      "Check digit (rightmost): 6\n",
      "Remaining digits (reversed): [8, 2, 7, 5, 4, 3, 1, 1, 4, 0, 7, 3, 9, 8, 5]\n",
      "\n",
      "Index | Digit | Operation           | Result\n",
      "-----+-------+---------------------+-------\n",
      "    0 |     8 | 8*2=16 -> -9=7      |     7\n",
      "    1 |     2 | keep                |     2\n",
      "    2 |     7 | 7*2=14 -> -9=5      |     5\n",
      "    3 |     5 | keep                |     5\n",
      "    4 |     4 | 4*2=8               |     8\n",
      "    5 |     3 | keep                |     3\n",
      "    6 |     1 | 1*2=2               |     2\n",
      "    7 |     1 | keep                |     1\n",
      "    8 |     4 | 4*2=8               |     8\n",
      "    9 |     0 | keep                |     0\n",
      "   10 |     7 | 7*2=14 -> -9=5      |     5\n",
      "   11 |     3 | keep                |     3\n",
      "   12 |     9 | 9*2=18 -> -9=9      |     9\n",
      "   13 |     8 | keep                |     8\n",
      "   14 |     5 | 5*2=10 -> -9=1      |     1\n",
      "-----+-------+---------------------+-------\n",
      "Sum (without check): 67\n",
      "Add check digit: 6 -> Total: 73\n",
      "Valid Luhn? False\n",
      "\n",
      "--- Sequence 2 ---\n",
      "Original digits:  [5, 8, 9, 3, 8, 0, 4, 1, 1, 5, 4, 5, 7, 2, 8, 9]\n",
      "Check digit (rightmost): 9\n",
      "Remaining digits (reversed): [8, 2, 7, 5, 4, 5, 1, 1, 4, 0, 8, 3, 9, 8, 5]\n",
      "\n",
      "Index | Digit | Operation           | Result\n",
      "-----+-------+---------------------+-------\n",
      "    0 |     8 | 8*2=16 -> -9=7      |     7\n",
      "    1 |     2 | keep                |     2\n",
      "    2 |     7 | 7*2=14 -> -9=5      |     5\n",
      "    3 |     5 | keep                |     5\n",
      "    4 |     4 | 4*2=8               |     8\n",
      "    5 |     5 | keep                |     5\n",
      "    6 |     1 | 1*2=2               |     2\n",
      "    7 |     1 | keep                |     1\n",
      "    8 |     4 | 4*2=8               |     8\n",
      "    9 |     0 | keep                |     0\n",
      "   10 |     8 | 8*2=16 -> -9=7      |     7\n",
      "   11 |     3 | keep                |     3\n",
      "   12 |     9 | 9*2=18 -> -9=9      |     9\n",
      "   13 |     8 | keep                |     8\n",
      "   14 |     5 | 5*2=10 -> -9=1      |     1\n",
      "-----+-------+---------------------+-------\n",
      "Sum (without check): 71\n",
      "Add check digit: 9 -> Total: 80\n",
      "Valid Luhn? True\n"
     ]
    },
    {
     "data": {
      "text/plain": [
       "True"
      ]
     },
     "execution_count": 10,
     "metadata": {},
     "output_type": "execute_result"
    }
   ],
   "source": [
    "def parse_sequence(s):\n",
    "    \"\"\"\n",
    "    Accepts a string like \"5 8 9 3 7 0 4 1 1 3 4 5 7 2 8 6\"\n",
    "    or \"5893704113457286\" and returns a list of ints.\n",
    "    \"\"\"\n",
    "    parts = s.strip().split()\n",
    "    if len(parts) > 1:\n",
    "        return [int(p) for p in parts]\n",
    "    else:\n",
    "        return [int(ch) for ch in s if ch.isdigit()]\n",
    "\n",
    "def luhn_steps(digits):\n",
    "    \"\"\"\n",
    "    Print detailed Luhn steps and return True/False for validity.\n",
    "    digits: list of ints (full number, including check digit at end)\n",
    "    \"\"\"\n",
    "    if len(digits) < 2:\n",
    "        print(\"Need at least 2 digits.\")\n",
    "        return False\n",
    "\n",
    "    print(\"Original digits: \", digits)\n",
    "    check = digits[-1]\n",
    "    remaining = digits[:-1]\n",
    "    rev = remaining[::-1]\n",
    "    print(\"Check digit (rightmost):\", check)\n",
    "    print(\"Remaining digits (reversed):\", rev)\n",
    "    print(\"\\nIndex | Digit | Operation           | Result\")\n",
    "    print(\"-----+-------+---------------------+-------\")\n",
    "\n",
    "    total = 0\n",
    "    for i, d in enumerate(rev):\n",
    "        if i % 2 == 0:  \n",
    "            doubled = d * 2\n",
    "            adjusted = doubled - 9 if doubled > 9 else doubled\n",
    "            op = f\"{d}*2={doubled}\" + (f\" -> -9={adjusted}\" if doubled>9 else \"\")\n",
    "            print(f\"{i:5} | {d:5} | {op:19} | {adjusted:5}\")\n",
    "            total += adjusted\n",
    "        else:\n",
    "            print(f\"{i:5} | {d:5} | {'keep':19} | {d:5}\")\n",
    "            total += d\n",
    "\n",
    "    print(\"-----+-------+---------------------+-------\")\n",
    "    print(\"Sum (without check):\", total)\n",
    "    total_with_check = total + check\n",
    "    print(\"Add check digit:\", check, \"-> Total:\", total_with_check)\n",
    "    valid = (total_with_check % 10 == 0)\n",
    "    print(\"Valid Luhn?\" , valid)\n",
    "    return valid\n",
    "\n",
    "\n",
    "s1 = \"5 8 9 3 7 0 4 1 1 3 4 5 7 2 8 6\"   \n",
    "s2 = \"5 8 9 3 8 0 4 1 1 5 4 5 7 2 8 9\"   \n",
    "\n",
    "digits1 = parse_sequence(s1)\n",
    "digits2 = parse_sequence(s2)\n",
    "\n",
    "print(\"\\n--- Sequence 1 ---\")\n",
    "luhn_steps(digits1)\n",
    "\n",
    "print(\"\\n--- Sequence 2 ---\")\n",
    "luhn_steps(digits2)\n"
   ]
  }
 ],
 "metadata": {
  "kernelspec": {
   "display_name": "base",
   "language": "python",
   "name": "python3"
  },
  "language_info": {
   "codemirror_mode": {
    "name": "ipython",
    "version": 3
   },
   "file_extension": ".py",
   "mimetype": "text/x-python",
   "name": "python",
   "nbconvert_exporter": "python",
   "pygments_lexer": "ipython3",
   "version": "3.12.4"
  }
 },
 "nbformat": 4,
 "nbformat_minor": 5
}
