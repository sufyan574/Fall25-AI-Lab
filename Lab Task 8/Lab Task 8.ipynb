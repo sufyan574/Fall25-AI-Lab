{
 "cells": [
  {
   "cell_type": "code",
   "execution_count": 1,
   "id": "df16dfbb",
   "metadata": {},
   "outputs": [
    {
     "name": "stdout",
     "output_type": "stream",
     "text": [
      "The optimal value is: 5\n"
     ]
    }
   ],
   "source": [
    "\n",
    "import math\n",
    "\n",
    "def minimax(curDepth, nodeIndex, maxTurn, scores, targetDepth):\n",
    "    if curDepth == targetDepth:\n",
    "        return scores[nodeIndex]\n",
    "    \n",
    "    if maxTurn:\n",
    "        return max(\n",
    "            minimax(curDepth + 1, nodeIndex * 2, False, scores, targetDepth),\n",
    "            minimax(curDepth + 1, nodeIndex * 2 + 1, False, scores, targetDepth)\n",
    "        )\n",
    "    else:\n",
    "        return min(\n",
    "            minimax(curDepth + 1, nodeIndex * 2, True, scores, targetDepth),\n",
    "            minimax(curDepth + 1, nodeIndex * 2 + 1, True, scores, targetDepth)\n",
    "        )\n",
    "\n",
    "scores = [3, 5, 2, 9, 3, 5, 2, 9]\n",
    "treeDepth = int(math.log(len(scores), 2))\n",
    "\n",
    "print(\"The optimal value is:\", minimax(0, 0, True, scores, treeDepth))\n"
   ]
  }
 ],
 "metadata": {
  "kernelspec": {
   "display_name": "Python 3",
   "language": "python",
   "name": "python3"
  },
  "language_info": {
   "codemirror_mode": {
    "name": "ipython",
    "version": 3
   },
   "file_extension": ".py",
   "mimetype": "text/x-python",
   "name": "python",
   "nbconvert_exporter": "python",
   "pygments_lexer": "ipython3",
   "version": "3.12.6"
  }
 },
 "nbformat": 4,
 "nbformat_minor": 5
}
