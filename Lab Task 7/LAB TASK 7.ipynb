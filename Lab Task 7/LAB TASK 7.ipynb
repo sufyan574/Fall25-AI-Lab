{
 "cells": [
  {
   "cell_type": "code",
   "execution_count": 1,
   "id": "9ac74d9b",
   "metadata": {},
   "outputs": [
    {
     "name": "stdout",
     "output_type": "stream",
     "text": [
      "Shortest Path: ['A', 'B', 'D']\n"
     ]
    },
    {
     "data": {
      "text/plain": [
       "['A', 'B', 'D']"
      ]
     },
     "execution_count": 1,
     "metadata": {},
     "output_type": "execute_result"
    }
   ],
   "source": [
    "from typing import Dict, List, Tuple, Optional\n",
    "\n",
    "class AStarGraph:\n",
    "\n",
    "    def __init__(self, graph_data: Dict[str, List[Tuple[str, int]]]):\n",
    "        self.graph = graph_data\n",
    "\n",
    "    def neighbors(self, node: str) -> List[Tuple[str, int]]:\n",
    "        return self.graph.get(node, [])\n",
    "\n",
    "    def heuristic(self, node: str) -> int:\n",
    "        estimates = {\n",
    "            'A': 1,\n",
    "            'B': 1,\n",
    "            'C': 1,\n",
    "            'D': 1\n",
    "        }\n",
    "        return estimates.get(node, 0)\n",
    "\n",
    "    def find_path(self, start: str, goal: str) -> Optional[List[str]]:\n",
    "\n",
    "        open_nodes = {start}   \n",
    "        closed_nodes = set()   \n",
    "\n",
    "        \n",
    "        cost_from_start = {start: 0}\n",
    "        parent_map = {start: None}\n",
    "\n",
    "        while open_nodes:\n",
    "            current = min(open_nodes, key=lambda n: cost_from_start[n] + self.heuristic(n))\n",
    "\n",
    "            if current == goal:\n",
    "                path = []\n",
    "                while current is not None:\n",
    "                    path.append(current)\n",
    "                    current = parent_map[current]\n",
    "                path.reverse()\n",
    "                print(f\"Shortest Path: {path}\")\n",
    "                return path\n",
    "\n",
    "            open_nodes.remove(current)\n",
    "            closed_nodes.add(current)\n",
    "\n",
    "            for neighbor, weight in self.neighbors(current):\n",
    "                tentative_cost = cost_from_start[current] + weight\n",
    "\n",
    "                if neighbor in closed_nodes:\n",
    "                    continue\n",
    "\n",
    "                if neighbor not in open_nodes or tentative_cost < cost_from_start.get(neighbor, float('inf')):\n",
    "                    parent_map[neighbor] = current\n",
    "                    cost_from_start[neighbor] = tentative_cost\n",
    "                    open_nodes.add(neighbor)\n",
    "\n",
    "        print(\"No path found between the given nodes.\")\n",
    "        return None\n",
    "\n",
    "graph_data = {\n",
    "    'A': [('B', 1), ('C', 3), ('D', 7)],\n",
    "    'B': [('D', 5)],\n",
    "    'C': [('D', 12)]\n",
    "}\n",
    "\n",
    "pathfinder = AStarGraph(graph_data)\n",
    "pathfinder.find_path('A', 'D')\n"
   ]
  }
 ],
 "metadata": {
  "kernelspec": {
   "display_name": "Python 3",
   "language": "python",
   "name": "python3"
  },
  "language_info": {
   "codemirror_mode": {
    "name": "ipython",
    "version": 3
   },
   "file_extension": ".py",
   "mimetype": "text/x-python",
   "name": "python",
   "nbconvert_exporter": "python",
   "pygments_lexer": "ipython3",
   "version": "3.12.6"
  }
 },
 "nbformat": 4,
 "nbformat_minor": 5
}
