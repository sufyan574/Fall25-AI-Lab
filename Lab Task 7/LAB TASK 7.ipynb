{
 "cells": [
  {
   "cell_type": "code",
   "execution_count": 3,
   "id": "9ac74d9b",
   "metadata": {},
   "outputs": [
    {
     "name": "stdout",
     "output_type": "stream",
     "text": [
      "Shortest Path: ['A', 'B', 'D']\n"
     ]
    },
    {
     "data": {
      "text/plain": [
       "['A', 'B', 'D']"
      ]
     },
     "execution_count": 3,
     "metadata": {},
     "output_type": "execute_result"
    }
   ],
   "source": [
    "class SimpleAStar:\n",
    "    def __init__(self, graph):\n",
    "        self.graph = graph\n",
    "\n",
    "    def get_neighbors(self, node):\n",
    "        return self.graph.get(node, [])\n",
    "\n",
    "    def heuristic(self, node):\n",
    "        h = {'A': 1, 'B': 1, 'C': 1, 'D': 1}\n",
    "        return h.get(node, 0)\n",
    "\n",
    "    def find_path(self, start, goal):\n",
    "        open_set = {start}       \n",
    "        closed_set = set()       \n",
    "        g_cost = {start: 0}      \n",
    "        parent = {start: None}  \n",
    "\n",
    "        while open_set:\n",
    "            current = min(open_set, key=lambda x: g_cost[x] + self.heuristic(x))\n",
    "\n",
    "            if current == goal:\n",
    "                path = []\n",
    "                while current:\n",
    "                    path.append(current)\n",
    "                    current = parent[current]\n",
    "                path.reverse()\n",
    "                print(\"Shortest Path:\", path)\n",
    "                return path\n",
    "\n",
    "            open_set.remove(current)\n",
    "            closed_set.add(current)\n",
    "\n",
    "            for neighbor, cost in self.get_neighbors(current):\n",
    "                new_cost = g_cost[current] + cost\n",
    "\n",
    "                if neighbor in closed_set:\n",
    "                    continue\n",
    "\n",
    "                if neighbor not in open_set or new_cost < g_cost.get(neighbor, float('inf')):\n",
    "                    g_cost[neighbor] = new_cost\n",
    "                    parent[neighbor] = current\n",
    "                    open_set.add(neighbor)\n",
    "\n",
    "        print(\"No path found.\")\n",
    "        return None\n",
    "\n",
    "\n",
    "graph = {\n",
    "    'A': [('B', 1), ('C', 3), ('D', 7)],\n",
    "    'B': [('D', 5)],\n",
    "    'C': [('D', 12)]\n",
    "}\n",
    "\n",
    "astar = SimpleAStar(graph)\n",
    "astar.find_path('A', 'D')\n"
   ]
  }
 ],
 "metadata": {
  "kernelspec": {
   "display_name": "Python 3",
   "language": "python",
   "name": "python3"
  },
  "language_info": {
   "codemirror_mode": {
    "name": "ipython",
    "version": 3
   },
   "file_extension": ".py",
   "mimetype": "text/x-python",
   "name": "python",
   "nbconvert_exporter": "python",
   "pygments_lexer": "ipython3",
   "version": "3.12.6"
  }
 },
 "nbformat": 4,
 "nbformat_minor": 5
}
