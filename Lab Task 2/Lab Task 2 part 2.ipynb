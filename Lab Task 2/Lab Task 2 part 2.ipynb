{
 "cells": [
  {
   "cell_type": "markdown",
   "id": "6b0877ff",
   "metadata": {},
   "source": [
    "# Sufyan Ajmal\n",
    "# SU92-BSAIM-F24-017"
   ]
  },
  {
   "cell_type": "code",
   "execution_count": 1,
   "id": "6cb58e86",
   "metadata": {},
   "outputs": [
    {
     "name": "stdout",
     "output_type": "stream",
     "text": [
      " Fizz Buzz Game (Computer gives numbers, you respond)\n",
      " Rule: Respond with 'Fizz', 'Buzz', 'Fizz Buzz', or the number itself.\n",
      " Based on: previous number + computer's number\n",
      "\n",
      "🤖 Computer says: 1\n",
      " You said: 1\n",
      "🤖 Computer says: 2\n",
      " You said: fizz\n",
      "🤖 Computer says: 3\n",
      " You said: buzz\n",
      "🤖 Computer says: 4\n",
      " You said: 7\n",
      "🤖 Computer says: 5\n",
      " You said: fizz\n",
      "🤖 Computer says: 6\n",
      " You said: 11\n",
      "🤖 Computer says: 7\n",
      " You said: 13\n",
      "🤖 Computer says: 8\n",
      " You said: fizz buzz\n",
      "🤖 Computer says: 9\n",
      " You said: 17\n",
      "🤖 Computer says: 10\n",
      " You said: 19\n",
      "🤖 Computer says: 11\n",
      " You said: fizz\n",
      "🤖 Computer says: 12\n",
      " You said: \n",
      "❌ Incorrect! The correct answer was: 23\n",
      " Computer wins!\n"
     ]
    }
   ],
   "source": [
    "def get_fizz_buzz_value(number):\n",
    "    if number % 3 == 0 and number % 5 == 0:\n",
    "        return \"Fizz Buzz\"\n",
    "    elif number % 3 == 0:\n",
    "        return \"Fizz\"\n",
    "    elif number % 5 == 0:\n",
    "        return \"Buzz\"\n",
    "    else:\n",
    "        return str(number)\n",
    "\n",
    "print(\" Fizz Buzz Game (Computer gives numbers, you respond)\")\n",
    "print(\" Rule: Respond with 'Fizz', 'Buzz', 'Fizz Buzz', or the number itself.\")\n",
    "print(\" Based on: previous number + computer's number\\n\")\n",
    "\n",
    "previous_number = 0  \n",
    "\n",
    "for computer_number in range(1, 101):\n",
    "    actual_value = previous_number + computer_number\n",
    "    correct_answer = get_fizz_buzz_value(actual_value)\n",
    "\n",
    "    print(f\"🤖 Computer says: {computer_number}\")\n",
    "    user_input = input(f\"👉 Your answer for {previous_number} + {computer_number} = {actual_value}: \").strip()\n",
    "\n",
    "   \n",
    "    print(f\" You said: {user_input}\")\n",
    "\n",
    "   \n",
    "    if user_input.lower() != correct_answer.lower():\n",
    "        print(f\"❌ Incorrect! The correct answer was: {correct_answer}\")\n",
    "        print(\" Computer wins!\")\n",
    "        break\n",
    "\n",
    "    \n",
    "    previous_number = computer_number\n",
    "\n",
    "else:\n",
    "    print(\"\\n You completed all 100 rounds correctly! You win!\")\n"
   ]
  }
 ],
 "metadata": {
  "kernelspec": {
   "display_name": "base",
   "language": "python",
   "name": "python3"
  },
  "language_info": {
   "codemirror_mode": {
    "name": "ipython",
    "version": 3
   },
   "file_extension": ".py",
   "mimetype": "text/x-python",
   "name": "python",
   "nbconvert_exporter": "python",
   "pygments_lexer": "ipython3",
   "version": "3.12.4"
  }
 },
 "nbformat": 4,
 "nbformat_minor": 5
}
