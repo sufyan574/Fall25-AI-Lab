{
 "cells": [
  {
   "cell_type": "markdown",
   "id": "a5951115",
   "metadata": {
    "vscode": {
     "languageId": "plaintext"
    }
   },
   "source": [
    "# Sufyan Ajmal\n",
    "# SU92-BSAIM-F24-017\n"
   ]
  },
  {
   "cell_type": "code",
   "execution_count": 2,
   "id": "b07a79c5",
   "metadata": {},
   "outputs": [
    {
     "name": "stdout",
     "output_type": "stream",
     "text": [
      "\n",
      "The average budget is: $190,500,000\n",
      "\n",
      "Movies with higher than average budget:\n",
      "- Pirates of the Caribbean: On Stranger Tides: $379,000,000 (which is $188,500,000 above average)\n",
      "- Avengers: Age of Ultron: $365,000,000 (which is $174,500,000 above average)\n",
      "- Avengers: Endgame: $356,000,000 (which is $165,500,000 above average)\n",
      "- Incredibles 2: $200,000,000 (which is $9,500,000 above average)\n",
      "- Pirates of the Caribbean: On Stranger Tides: $379,000,000 (which is $188,500,000 above average)\n",
      "- Avengers: Age of Ultron: $365,000,000 (which is $174,500,000 above average)\n",
      "- Avengers: Endgame: $356,000,000 (which is $165,500,000 above average)\n",
      "- ncredibles 2: $200,000,000 (which is $9,500,000 above average)\n",
      "\n",
      "Number of movies above average budget: 8\n"
     ]
    }
   ],
   "source": [
    "movies = [\n",
    "    (\"Eternal Sunshine of the Spotless Mind\", 20000000),\n",
    "    (\"Memento\", 9000000),\n",
    "    (\"Requiem for a Dream\", 4500000),\n",
    "    (\"Pirates of the Caribbean: On Stranger Tides\", 379000000),\n",
    "    (\"Avengers: Age of Ultron\", 365000000),\n",
    "    (\"Avengers: Endgame\", 356000000),\n",
    "    (\"Incredibles 2\", 200000000)\n",
    "]\n",
    "\n",
    "add_count = int(input(\" 7 \"))\n",
    "\n",
    "for i in range(add_count):\n",
    "    title = input(\"Movie title: \")\n",
    "    budget = int(input(\"Movie budget: \"))\n",
    "    movies.append((title, budget))\n",
    "\n",
    "total_budget = 0\n",
    "for movie in movies:\n",
    "    total_budget += movie[1]\n",
    "\n",
    "average_budget = total_budget / len(movies)\n",
    "print(f\"\\nThe average budget is: ${average_budget:,.0f}\")\n",
    "\n",
    "print(\"\\nMovies with higher than average budget:\")\n",
    "above_average_count = 0\n",
    "\n",
    "for movie in movies:\n",
    "    name, budget = movie\n",
    "    if budget > average_budget:\n",
    "        difference = budget - average_budget\n",
    "        print(f\"- {name}: ${budget:,.0f} (which is ${difference:,.0f} above average)\")\n",
    "        above_average_count += 1\n",
    "\n",
    "print(f\"\\nNumber of movies above average budget: {above_average_count}\")\n"
   ]
  }
 ],
 "metadata": {
  "kernelspec": {
   "display_name": "base",
   "language": "python",
   "name": "python3"
  },
  "language_info": {
   "codemirror_mode": {
    "name": "ipython",
    "version": 3
   },
   "file_extension": ".py",
   "mimetype": "text/x-python",
   "name": "python",
   "nbconvert_exporter": "python",
   "pygments_lexer": "ipython3",
   "version": "3.12.4"
  }
 },
 "nbformat": 4,
 "nbformat_minor": 5
}
